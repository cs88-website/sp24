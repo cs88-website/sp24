{
 "cells": [
  {
   "cell_type": "markdown",
   "metadata": {},
   "source": [
    "# Data Structures: Linked Lists\n",
    "## We'll learn some new Python tools, too.\n",
    "\n",
    "**Note to self:**\n",
    "- Clear all outputs\n",
    "- Draw it out"
   ]
  },
  {
   "cell_type": "markdown",
   "metadata": {},
   "source": [
    "## A note on optional/default arguments"
   ]
  },
  {
   "cell_type": "code",
   "execution_count": null,
   "metadata": {},
   "outputs": [],
   "source": [
    "# An \"=\" after an argument makes it \"optional\" and provides a default value.\n",
    "def my_fun(x, y=1):\n",
    "    return x, y"
   ]
  },
  {
   "cell_type": "code",
   "execution_count": null,
   "metadata": {},
   "outputs": [],
   "source": [
    "my_fun(10)"
   ]
  },
  {
   "cell_type": "code",
   "execution_count": null,
   "metadata": {},
   "outputs": [],
   "source": [
    "my_fun(10, 3)"
   ]
  },
  {
   "cell_type": "markdown",
   "metadata": {},
   "source": [
    "## The `Link` Class"
   ]
  },
  {
   "cell_type": "code",
   "execution_count": null,
   "metadata": {},
   "outputs": [],
   "source": [
    "class Link:\n",
    "    \"\"\"A linked list.\n",
    "    >>> s = Link(3, Link(4, Link(5)))\n",
    "    >>> len(s)\n",
    "    3\n",
    "    >>> s[2]\n",
    "    5\n",
    "    >>> s\n",
    "    Link(3, Link(4, Link(5)))\n",
    "    \"\"\"\n",
    "    empty = ()\n",
    "\n",
    "    def __init__(self, first, rest=empty): # note the default argument\n",
    "        self.first = first\n",
    "        self.rest = rest\n",
    "        \n",
    "    def __repr__(self):\n",
    "        # print(f'repr called with first: {self.first}')\n",
    "        if self.rest:\n",
    "            rest_str = ', ' + repr(self.rest) # self.rest.__reper__()\n",
    "        else:\n",
    "            rest_str = ''\n",
    "        return f'Link({self.first}{rest_str})'"
   ]
  },
  {
   "cell_type": "markdown",
   "metadata": {},
   "source": [
    "## Linked List Basics"
   ]
  },
  {
   "cell_type": "code",
   "execution_count": null,
   "metadata": {},
   "outputs": [],
   "source": [
    "l1 = Link(1)\n",
    "l1"
   ]
  },
  {
   "cell_type": "code",
   "execution_count": null,
   "metadata": {},
   "outputs": [],
   "source": [
    "print(l1)"
   ]
  },
  {
   "cell_type": "code",
   "execution_count": null,
   "metadata": {},
   "outputs": [],
   "source": [
    "l1.first"
   ]
  },
  {
   "cell_type": "code",
   "execution_count": null,
   "metadata": {},
   "outputs": [],
   "source": [
    "l1.rest"
   ]
  },
  {
   "cell_type": "code",
   "execution_count": null,
   "metadata": {},
   "outputs": [],
   "source": [
    "# Checking for equality: Use ==\n",
    "l1.rest == Link.empty"
   ]
  },
  {
   "cell_type": "code",
   "execution_count": null,
   "metadata": {},
   "outputs": [],
   "source": [
    "# Checking for object identity: Use \"is\" operator\n",
    "# For our purposes, does the same thing for checking if a linked list is empty\n",
    "l1.rest is Link.empty"
   ]
  },
  {
   "cell_type": "code",
   "execution_count": null,
   "metadata": {},
   "outputs": [],
   "source": [
    "len(l1)"
   ]
  },
  {
   "cell_type": "code",
   "execution_count": null,
   "metadata": {},
   "outputs": [],
   "source": [
    "l1[0]"
   ]
  },
  {
   "cell_type": "markdown",
   "metadata": {},
   "source": [
    "## WWPD"
   ]
  },
  {
   "cell_type": "code",
   "execution_count": null,
   "metadata": {},
   "outputs": [],
   "source": [
    "# You can store any kind of data in `first`\n",
    "classes = Link('C88C', Link('CS61B', Link('DS100')))\n",
    "classes"
   ]
  },
  {
   "cell_type": "code",
   "execution_count": null,
   "metadata": {},
   "outputs": [],
   "source": [
    "s = Link(3, Link(4, Link(5)))\n",
    "s"
   ]
  },
  {
   "cell_type": "code",
   "execution_count": null,
   "metadata": {},
   "outputs": [],
   "source": [
    "s.first"
   ]
  },
  {
   "cell_type": "code",
   "execution_count": null,
   "metadata": {},
   "outputs": [],
   "source": [
    "s.rest.first\n"
   ]
  },
  {
   "cell_type": "code",
   "execution_count": null,
   "metadata": {},
   "outputs": [],
   "source": [
    "s.rest.rest.first"
   ]
  },
  {
   "cell_type": "code",
   "execution_count": null,
   "metadata": {},
   "outputs": [],
   "source": [
    "s2 = s.rest\n",
    "s2"
   ]
  },
  {
   "cell_type": "code",
   "execution_count": null,
   "metadata": {},
   "outputs": [],
   "source": [
    "s"
   ]
  },
  {
   "cell_type": "code",
   "execution_count": null,
   "metadata": {},
   "outputs": [],
   "source": [
    "s.rest"
   ]
  },
  {
   "cell_type": "code",
   "execution_count": null,
   "metadata": {},
   "outputs": [],
   "source": [
    "s.rest.rest"
   ]
  },
  {
   "cell_type": "code",
   "execution_count": null,
   "metadata": {},
   "outputs": [],
   "source": [
    "s.rest.rest.rest"
   ]
  },
  {
   "cell_type": "code",
   "execution_count": null,
   "metadata": {},
   "outputs": [],
   "source": [
    "s.rest.rest.rest.rest"
   ]
  },
  {
   "cell_type": "markdown",
   "metadata": {},
   "source": [
    "## Writing linked list functions"
   ]
  },
  {
   "cell_type": "markdown",
   "metadata": {},
   "source": [
    "### `print_link`\n",
    "\n",
    "Write a function `print_link` which takes in a `Link` object called `link` and prints each element in the linked list, each on its own line."
   ]
  },
  {
   "cell_type": "code",
   "execution_count": null,
   "metadata": {},
   "outputs": [],
   "source": [
    "def print_link(link):\n",
    "    \"\"\"\n",
    "    >>> link = Link(1, Link(2, Link(3)))\n",
    "    >>> print_link(link)\n",
    "    1\n",
    "    2\n",
    "    3\n",
    "    \"\"\"\n",
    "    if not link: # Equivalent to: link.rest == Link.empty, link.rest is Link.empty\n",
    "        return\n",
    "    print(link.first)\n",
    "    print_link(link.rest)"
   ]
  },
  {
   "cell_type": "code",
   "execution_count": null,
   "metadata": {},
   "outputs": [],
   "source": [
    "print_link(s)"
   ]
  },
  {
   "cell_type": "markdown",
   "metadata": {},
   "source": [
    "### `link_len`\n",
    "\n",
    "Write a function `link_len` which takes in a `Link` object called `lnk` and returns the length of the linked list (e.g. how many elements are in the list). Implement this recursively."
   ]
  },
  {
   "cell_type": "code",
   "execution_count": null,
   "metadata": {},
   "outputs": [],
   "source": [
    "def link_len(lnk):\n",
    "    \"\"\"\n",
    "    >>> link = Link(3, Link(5, Link(4)))\n",
    "    >>> link_len(link)\n",
    "    3\n",
    "    >>> link2 = Link(1)\n",
    "    >>> link_len(link2)\n",
    "    1\n",
    "    \"\"\"\n",
    "    if not lnk:\n",
    "        return 0\n",
    "    return 1 + link_len(lnk.rest)"
   ]
  },
  {
   "cell_type": "code",
   "execution_count": null,
   "metadata": {},
   "outputs": [],
   "source": [
    "s"
   ]
  },
  {
   "cell_type": "code",
   "execution_count": null,
   "metadata": {},
   "outputs": [],
   "source": [
    "link_len(s)"
   ]
  },
  {
   "cell_type": "markdown",
   "metadata": {},
   "source": [
    "### `link_len_iter`\n",
    "\n",
    "Write a function `link_len_iter` which takes in a `Link` object called `lnk` and returns the length of the linked list (e.g. how many elements are in the list). Implement this iteratively."
   ]
  },
  {
   "cell_type": "code",
   "execution_count": null,
   "metadata": {},
   "outputs": [],
   "source": [
    "def link_len_iter(lnk):\n",
    "    length = 0\n",
    "    while lnk:\n",
    "        lnk = lnk.rest\n",
    "        length += 1\n",
    "    return length"
   ]
  },
  {
   "cell_type": "code",
   "execution_count": null,
   "metadata": {},
   "outputs": [],
   "source": [
    "s"
   ]
  },
  {
   "cell_type": "code",
   "execution_count": null,
   "metadata": {},
   "outputs": [],
   "source": [
    "link_len_iter(s)"
   ]
  },
  {
   "cell_type": "code",
   "execution_count": null,
   "metadata": {},
   "outputs": [],
   "source": [
    "s.first"
   ]
  },
  {
   "cell_type": "code",
   "execution_count": null,
   "metadata": {},
   "outputs": [],
   "source": [
    "s.rest"
   ]
  },
  {
   "cell_type": "code",
   "execution_count": null,
   "metadata": {},
   "outputs": [],
   "source": [
    "s2"
   ]
  },
  {
   "cell_type": "code",
   "execution_count": null,
   "metadata": {},
   "outputs": [],
   "source": [
    "link_len_iter(s2)"
   ]
  },
  {
   "cell_type": "markdown",
   "metadata": {},
   "source": [
    "## Changing pointers"
   ]
  },
  {
   "cell_type": "code",
   "execution_count": null,
   "metadata": {},
   "outputs": [],
   "source": [
    "thing = Link(3.5, s2)"
   ]
  },
  {
   "cell_type": "code",
   "execution_count": null,
   "metadata": {},
   "outputs": [],
   "source": [
    "thing"
   ]
  },
  {
   "cell_type": "code",
   "execution_count": null,
   "metadata": {},
   "outputs": [],
   "source": [
    "s.rest = thing\n",
    "s"
   ]
  },
  {
   "cell_type": "code",
   "execution_count": null,
   "metadata": {},
   "outputs": [],
   "source": [
    "s2"
   ]
  },
  {
   "cell_type": "markdown",
   "metadata": {},
   "source": [
    "# __len__(s) -- How Does it Work?\n",
    "\n",
    "\n",
    "* 1 + Link(3.5, Link(4 ...)\n",
    "* 2 + Link(4, ....)\n",
    "... \n",
    "* 4 + len(self.rest) == 4 + len(())\n",
    "\n",
    "[Python Tutor](https://pythontutor.com/composingprograms.html#code=class%20Link%3A%0A%20%20%20%20%22%22%22A%20linked%20list.%0A%20%20%20%20%3E%3E%3E%20s%20%3D%20Link%283,%20Link%284,%20Link%285%29%29%29%0A%20%20%20%20%3E%3E%3E%20len%28s%29%0A%20%20%20%203%0A%20%20%20%20%3E%3E%3E%20s%5B2%5D%0A%20%20%20%205%0A%20%20%20%20%3E%3E%3E%20s%0A%20%20%20%20Link%283,%20Link%284,%20Link%285%29%29%29%0A%20%20%20%20%22%22%22%0A%20%20%20%20empty%20%3D%20%28%29%0A%0A%20%20%20%20def%20__init__%28self,%20first,%20rest%3Dempty%29%3A%0A%20%20%20%20%20%20%20%20self.first%20%3D%20first%0A%20%20%20%20%20%20%20%20self.rest%20%3D%20rest%0A%0A%20%20%20%20def%20__len__%28self%29%3A%0A%20%20%20%20%20%20%20%20return%201%20%2B%20len%28self.rest%29%0A%0A%20%20%20%20def%20__repr__%28self%29%3A%0A%20%20%20%20%20%20%20%20if%20self.rest%3A%0A%20%20%20%20%20%20%20%20%20%20%20%20rest_str%20%3D%20',%20'%20%2B%20repr%28self.rest%29%0A%20%20%20%20%20%20%20%20else%3A%0A%20%20%20%20%20%20%20%20%20%20%20%20rest_str%20%3D%20''%0A%20%20%20%20%20%20%20%20return%20'Link%28%7B0%7D%7B1%7D%29'.format%28self.first,%20rest_str%29%0A%20%20%20%20%20%20%20%20%0A%20%20%20%20%20%20%20%20%0Alst%20%3D%20Link%281,%20Link%282,%20Link%283,%20Link%284%29%29%29%29%0A%0Aprint%28len%28lst%29%29&cumulative=true&curInstr=31&mode=display&origin=composingprograms.js&py=3&rawInputLstJSON=%5B%5D)\n",
    "\n",
    "Now let's implement `__len__` ourselves! **Restart kernel, rerun cells**"
   ]
  },
  {
   "cell_type": "code",
   "execution_count": null,
   "metadata": {},
   "outputs": [],
   "source": [
    "class Link:\n",
    "    \"\"\"A linked list.\n",
    "    >>> s = Link(3, Link(4, Link(5)))\n",
    "    >>> len(s)\n",
    "    3\n",
    "    >>> s[2]\n",
    "    5\n",
    "    >>> s\n",
    "    Link(3, Link(4, Link(5)))\n",
    "    \"\"\"\n",
    "    empty = ()\n",
    "\n",
    "    def __init__(self, first, rest=empty): # note the default argument\n",
    "        self.first = first\n",
    "        self.rest = rest\n",
    "    \n",
    "    def __len__(self): # you normally won't have this\n",
    "        return 1 + len(self.rest)\n",
    "        \n",
    "    def __repr__(self):\n",
    "        # print(f'repr called with first: {self.first}')\n",
    "        if self.rest:\n",
    "            rest_str = ', ' + repr(self.rest) # self.rest.__reper__()\n",
    "        else:\n",
    "            rest_str = ''\n",
    "        return f'Link({self.first}{rest_str})'"
   ]
  },
  {
   "cell_type": "code",
   "execution_count": null,
   "metadata": {},
   "outputs": [],
   "source": [
    "s = Link(3, Link(4, Link(5)))\n",
    "s"
   ]
  },
  {
   "cell_type": "code",
   "execution_count": null,
   "metadata": {},
   "outputs": [],
   "source": [
    "len(s)"
   ]
  },
  {
   "cell_type": "code",
   "execution_count": null,
   "metadata": {},
   "outputs": [],
   "source": [
    "s.__len__()"
   ]
  },
  {
   "cell_type": "code",
   "execution_count": null,
   "metadata": {},
   "outputs": [],
   "source": [
    "Link.__len__(s)"
   ]
  },
  {
   "cell_type": "code",
   "execution_count": null,
   "metadata": {},
   "outputs": [],
   "source": [
    "len(Link.empty) # this works because Link.empty is a tuple, which has the __len__ method already implemented"
   ]
  },
  {
   "cell_type": "code",
   "execution_count": null,
   "metadata": {},
   "outputs": [],
   "source": [
    "l1"
   ]
  },
  {
   "cell_type": "code",
   "execution_count": null,
   "metadata": {},
   "outputs": [],
   "source": [
    "1 + len(l1.rest)"
   ]
  },
  {
   "cell_type": "code",
   "execution_count": null,
   "metadata": {},
   "outputs": [],
   "source": [
    "s"
   ]
  },
  {
   "cell_type": "code",
   "execution_count": null,
   "metadata": {},
   "outputs": [],
   "source": [
    "s.rest"
   ]
  },
  {
   "cell_type": "code",
   "execution_count": null,
   "metadata": {},
   "outputs": [],
   "source": [
    "1 + len(s.rest)"
   ]
  },
  {
   "cell_type": "code",
   "execution_count": null,
   "metadata": {},
   "outputs": [],
   "source": [
    "s.rest.rest"
   ]
  },
  {
   "cell_type": "code",
   "execution_count": null,
   "metadata": {},
   "outputs": [],
   "source": [
    "2 + len(s.rest.rest)"
   ]
  },
  {
   "cell_type": "code",
   "execution_count": null,
   "metadata": {},
   "outputs": [],
   "source": [
    "s.rest.rest.rest"
   ]
  },
  {
   "cell_type": "code",
   "execution_count": null,
   "metadata": {},
   "outputs": [],
   "source": [
    "3 + len(s.rest.rest.rest)"
   ]
  },
  {
   "cell_type": "markdown",
   "metadata": {},
   "source": [
    "## `getitem` and Indexing Linked List\n",
    "### WARNING: You shouldn't actually do this!\n",
    "\n",
    "Can we turn our linked link into something like a \"regular\" list, where I can write `my_link[3]` to get the 4th item?\n",
    "\n",
    "Sure! Enter `__getitem__`\n",
    "\n",
    "Just note that if you _need_ to do this, then you probably want a tool different from a linked list.\n",
    "\n",
    "### Why is this \"bad\"? ...It's slow.\n",
    "We'll talk about why in the next lecture.\n",
    "`regular_list[3]` is fast, it takes no time for Python. `__getitem__` would take 3 function calls to make that operation work.\n",
    "\n",
    "**Restart kernel, rerun cells**"
   ]
  },
  {
   "cell_type": "code",
   "execution_count": null,
   "metadata": {},
   "outputs": [],
   "source": [
    "class Link:\n",
    "    \"\"\"A linked list.\n",
    "    >>> s = Link(3, Link(4, Link(5)))\n",
    "    >>> len(s)\n",
    "    3\n",
    "    >>> s[2]\n",
    "    5\n",
    "    >>> s\n",
    "    Link(3, Link(4, Link(5)))\n",
    "    \"\"\"\n",
    "    empty = ()\n",
    "\n",
    "    def __init__(self, first, rest=empty):\n",
    "        self.first = first\n",
    "        self.rest = rest\n",
    "\n",
    "    def __len__(self): # normally you won't have this\n",
    "        return 1 + len(self.rest)\n",
    "\n",
    "    def __getitem__(self, i): # normally you won't have this\n",
    "        assert self is not Link.empty\n",
    "        if i == 0:\n",
    "            return self.first\n",
    "        else:\n",
    "            return self.rest[i - 1]\n",
    "            \n",
    "    def __repr__(self):\n",
    "        if self.rest:\n",
    "            rest_str = ', ' + repr(self.rest)\n",
    "        else:\n",
    "            rest_str = ''\n",
    "        return 'Link({0}{1})'.format(self.first, rest_str)"
   ]
  },
  {
   "cell_type": "code",
   "execution_count": null,
   "metadata": {},
   "outputs": [],
   "source": [
    "s = Link(3, Link(4, Link(5)))\n",
    "s"
   ]
  },
  {
   "cell_type": "code",
   "execution_count": null,
   "metadata": {},
   "outputs": [],
   "source": [
    "s[0]"
   ]
  },
  {
   "cell_type": "code",
   "execution_count": null,
   "metadata": {},
   "outputs": [],
   "source": [
    "s[2]"
   ]
  },
  {
   "cell_type": "code",
   "execution_count": null,
   "metadata": {},
   "outputs": [],
   "source": [
    "# Now we can directly use a for loop\n",
    "for thing in s:\n",
    "    print(thing)"
   ]
  },
  {
   "cell_type": "code",
   "execution_count": null,
   "metadata": {},
   "outputs": [],
   "source": [
    "# Doesn't quite work yet because of how slicing works\n",
    "s[::-1]"
   ]
  },
  {
   "cell_type": "code",
   "execution_count": null,
   "metadata": {},
   "outputs": [],
   "source": [
    "# Step by step: How __getitem__ works\n",
    "\n",
    "# i = 2:\n",
    "# self.rest = Link(4, Link(5))\n",
    "# self.rest[1]\n",
    "\n",
    "# i = 1\n",
    "# self.rest = Link(5)\n",
    "# self.rest[0]\n",
    "\n",
    "# i = 0\n",
    "# self.first == 5"
   ]
  },
  {
   "cell_type": "markdown",
   "metadata": {},
   "source": [
    "### What happens if we directly set `Link.rest`?"
   ]
  },
  {
   "cell_type": "code",
   "execution_count": null,
   "metadata": {},
   "outputs": [],
   "source": [
    "names = Link('Kaz', Link('Inej', Link('Jesper')))"
   ]
  },
  {
   "cell_type": "code",
   "execution_count": null,
   "metadata": {},
   "outputs": [],
   "source": [
    "names.rest.rest = 'Amir'"
   ]
  },
  {
   "cell_type": "code",
   "execution_count": null,
   "metadata": {},
   "outputs": [],
   "source": [
    "names"
   ]
  },
  {
   "cell_type": "code",
   "execution_count": null,
   "metadata": {},
   "outputs": [],
   "source": [
    "len(names) # What?? Consider why this happens."
   ]
  },
  {
   "cell_type": "code",
   "execution_count": null,
   "metadata": {},
   "outputs": [],
   "source": [
    "names[2]"
   ]
  },
  {
   "cell_type": "markdown",
   "metadata": {},
   "source": [
    "**Restart kernel, rerun cells**"
   ]
  },
  {
   "cell_type": "code",
   "execution_count": null,
   "metadata": {},
   "outputs": [],
   "source": [
    "# A final ** expanded ** Link Class\n",
    "\n",
    "class Link:\n",
    "    \"\"\"A linked list.\n",
    "    >>> s = Link(3, Link(4, Link(5)))\n",
    "    >>> len(s)\n",
    "    3\n",
    "    >>> s[2]\n",
    "    5\n",
    "    >>> s\n",
    "    Link(3, Link(4, Link(5)))\n",
    "    \"\"\"\n",
    "    empty = ()\n",
    "\n",
    "    def __init__(self, first, rest=empty):\n",
    "        assert rest is Link.empty or isinstance(rest, Link)\n",
    "        self.first = first\n",
    "        self.rest = rest\n",
    "\n",
    "    def __len__(self): # normally you won't have this\n",
    "        return 1 + len(self.rest)\n",
    "    \n",
    "    def __getitem__(self, i): # normally you won't have this\n",
    "        if i == 0:\n",
    "            return self.first\n",
    "        else:\n",
    "            return self.rest[i - 1]\n",
    "\n",
    "    def __repr__(self):\n",
    "        if self.rest:\n",
    "            rest_str = ', ' + repr(self.rest)\n",
    "        else:\n",
    "            rest_str = ''\n",
    "        return 'Link({0}{1})'.format(self.first, rest_str)\n",
    "    \n",
    "    def __setattr__(self, name, value): # normally you won't have this\n",
    "        # Assert that self.rest is always a kind of Link() if we set it directly.\n",
    "        # https://docs.python.org/3/reference/datamodel.html#object.__setattr__\n",
    "        if name == 'rest':\n",
    "            assert value is Link.empty or isinstance(value, Link)\n",
    "        self.__dict__[name] = value"
   ]
  },
  {
   "cell_type": "code",
   "execution_count": null,
   "metadata": {},
   "outputs": [],
   "source": [
    "names = Link('Kaz', Link('Inej', Link('Jesper')))"
   ]
  },
  {
   "cell_type": "code",
   "execution_count": null,
   "metadata": {},
   "outputs": [],
   "source": [
    "# Now, we'll get an error!\n",
    "names.rest.rest = 'Amir'"
   ]
  }
 ],
 "metadata": {
  "kernelspec": {
   "display_name": "Python 3 (ipykernel)",
   "language": "python",
   "name": "python3"
  },
  "language_info": {
   "codemirror_mode": {
    "name": "ipython",
    "version": 3
   },
   "file_extension": ".py",
   "mimetype": "text/x-python",
   "name": "python",
   "nbconvert_exporter": "python",
   "pygments_lexer": "ipython3",
   "version": "3.11.5"
  }
 },
 "nbformat": 4,
 "nbformat_minor": 2
}
