{
 "cells": [
  {
   "cell_type": "markdown",
   "metadata": {},
   "source": [
    "# Lecture: Trees\n",
    "\n",
    "A tree is a _data structure_ that is like a linked list, but each item can have multiple \"children\" or branches."
   ]
  },
  {
   "cell_type": "code",
   "execution_count": 12,
   "metadata": {},
   "outputs": [],
   "source": [
    "class Tree:\n",
    "    def __init__(self, value, *branches):\n",
    "        self.value = value\n",
    "        for branch in branches:\n",
    "            assert isinstance(branch, Tree), f\"{branch} must be a tree\"\n",
    "        self.branches = list(branches)\n",
    "\n",
    "    def __repr__(self):\n",
    "        # This is merely a more concise representation useful for later.\n",
    "        # others = ' ...' if self.branches else ''\n",
    "        # return 'Tree({0}){1}'.format(self.value, others)\n",
    "        if self.branches:\n",
    "            branches_str = ', ' + repr(self.branches)\n",
    "        else:\n",
    "            branches_str = ''\n",
    "        return f'Tree({self.value}{branches_str})'\n",
    "\n",
    "    def is_leaf(self):\n",
    "        return not self.branches\n",
    "\n",
    "    def __len__(self):\n",
    "        return \"COMING SOON\"\n",
    "\n",
    "    def add_branch(self, tree):\n",
    "        assert isinstance(tree, Tree), \"Each branch of a Tree must be an instance of a Tree\"\n",
    "        self.branches.append(tree)\n"
   ]
  },
  {
   "cell_type": "code",
   "execution_count": 5,
   "metadata": {},
   "outputs": [],
   "source": [
    "my_tree = Tree(1)\n"
   ]
  },
  {
   "cell_type": "code",
   "execution_count": null,
   "metadata": {},
   "outputs": [],
   "source": []
  },
  {
   "cell_type": "code",
   "execution_count": 6,
   "metadata": {},
   "outputs": [
    {
     "data": {
      "text/plain": [
       "Tree(1)"
      ]
     },
     "execution_count": 6,
     "metadata": {},
     "output_type": "execute_result"
    }
   ],
   "source": [
    "my_tree\n"
   ]
  },
  {
   "cell_type": "code",
   "execution_count": 7,
   "metadata": {},
   "outputs": [
    {
     "data": {
      "text/plain": [
       "True"
      ]
     },
     "execution_count": 7,
     "metadata": {},
     "output_type": "execute_result"
    }
   ],
   "source": [
    "my_tree.is_leaf()\n"
   ]
  },
  {
   "cell_type": "code",
   "execution_count": 8,
   "metadata": {},
   "outputs": [
    {
     "data": {
      "text/plain": [
       "1"
      ]
     },
     "execution_count": 8,
     "metadata": {},
     "output_type": "execute_result"
    }
   ],
   "source": [
    "my_tree.value\n"
   ]
  },
  {
   "cell_type": "code",
   "execution_count": null,
   "metadata": {},
   "outputs": [
    {
     "data": {
      "text/plain": [
       "[]"
      ]
     },
     "execution_count": 62,
     "metadata": {},
     "output_type": "execute_result"
    }
   ],
   "source": [
    "my_tree.branches\n"
   ]
  },
  {
   "cell_type": "code",
   "execution_count": 9,
   "metadata": {},
   "outputs": [],
   "source": [
    "lec_tree = Tree(2,\n",
    "    Tree(7,\n",
    "        Tree(2),\n",
    "        Tree(10),\n",
    "        Tree(6,\n",
    "            Tree(5),\n",
    "            Tree(11))),\n",
    "    Tree(5, Tree(9, Tree(4))\n",
    "    )\n",
    ")\n"
   ]
  },
  {
   "cell_type": "code",
   "execution_count": 10,
   "metadata": {},
   "outputs": [
    {
     "data": {
      "text/plain": [
       "Tree(2, [Tree(7, [Tree(2), Tree(10), Tree(6, [Tree(5), Tree(11)])]), Tree(5, [Tree(9, [Tree(4)])])])"
      ]
     },
     "execution_count": 10,
     "metadata": {},
     "output_type": "execute_result"
    }
   ],
   "source": [
    "lec_tree\n"
   ]
  },
  {
   "cell_type": "code",
   "execution_count": 11,
   "metadata": {},
   "outputs": [
    {
     "ename": "TypeError",
     "evalue": "object of type 'Tree' has no len()",
     "output_type": "error",
     "traceback": [
      "\u001b[0;31m---------------------------------------------------------------------------\u001b[0m",
      "\u001b[0;31mTypeError\u001b[0m                                 Traceback (most recent call last)",
      "\u001b[1;32m/Users/michael/Dropbox/Projects/cs88/cs88/src/assets/slides/fa23/19-Trees.ipynb Cell 11\u001b[0m line \u001b[0;36m1\n\u001b[0;32m----> <a href='vscode-notebook-cell:/Users/michael/Dropbox/Projects/cs88/cs88/src/assets/slides/fa23/19-Trees.ipynb#X13sZmlsZQ%3D%3D?line=0'>1</a>\u001b[0m \u001b[39mlen\u001b[39;49m(lec_tree)\n",
      "\u001b[0;31mTypeError\u001b[0m: object of type 'Tree' has no len()"
     ]
    }
   ],
   "source": [
    "len(lec_tree)\n"
   ]
  },
  {
   "cell_type": "code",
   "execution_count": 2,
   "metadata": {},
   "outputs": [
    {
     "data": {
      "text/plain": [
       "2"
      ]
     },
     "execution_count": 2,
     "metadata": {},
     "output_type": "execute_result"
    }
   ],
   "source": [
    "1+1\n"
   ]
  },
  {
   "cell_type": "code",
   "execution_count": null,
   "metadata": {},
   "outputs": [],
   "source": []
  },
  {
   "cell_type": "code",
   "execution_count": 15,
   "metadata": {},
   "outputs": [
    {
     "name": "stdout",
     "output_type": "stream",
     "text": [
      "2\n",
      "7\n",
      "2\n",
      "10\n",
      "6\n",
      "5\n",
      "9\n"
     ]
    }
   ],
   "source": [
    "print(lec_tree.value)\n",
    "for b in lec_tree.branches:\n",
    "    print(b.value)\n",
    "    for b2 in b.branches:\n",
    "        print(b2.value)\n"
   ]
  },
  {
   "cell_type": "markdown",
   "metadata": {},
   "source": [
    "# Traversing A Tree"
   ]
  },
  {
   "cell_type": "code",
   "execution_count": 16,
   "metadata": {},
   "outputs": [],
   "source": [
    "def traverse_recursive(t):\n",
    "    print(f'Saw: {t.value}')\n",
    "    for b in t.branches:\n",
    "        traverse_recursive(b)\n"
   ]
  },
  {
   "cell_type": "code",
   "execution_count": 17,
   "metadata": {},
   "outputs": [
    {
     "name": "stdout",
     "output_type": "stream",
     "text": [
      "Saw: 1\n"
     ]
    }
   ],
   "source": [
    "traverse_recursive(my_tree)\n"
   ]
  },
  {
   "cell_type": "code",
   "execution_count": 18,
   "metadata": {},
   "outputs": [
    {
     "name": "stdout",
     "output_type": "stream",
     "text": [
      "Saw: 2\n",
      "Saw: 7\n",
      "Saw: 2\n",
      "Saw: 10\n",
      "Saw: 6\n",
      "Saw: 5\n",
      "Saw: 11\n",
      "Saw: 5\n",
      "Saw: 9\n",
      "Saw: 4\n"
     ]
    }
   ],
   "source": [
    "traverse_recursive(lec_tree)\n"
   ]
  },
  {
   "cell_type": "code",
   "execution_count": null,
   "metadata": {},
   "outputs": [],
   "source": [
    "# This is a handy Python feature.\n",
    "\n",
    "def star_args(*args):\n",
    "    print(args)\n"
   ]
  },
  {
   "cell_type": "code",
   "execution_count": null,
   "metadata": {},
   "outputs": [],
   "source": [
    "star_args('Hello')\n"
   ]
  },
  {
   "cell_type": "code",
   "execution_count": 73,
   "metadata": {},
   "outputs": [
    {
     "ename": "NameError",
     "evalue": "name 'star_args' is not defined",
     "output_type": "error",
     "traceback": [
      "\u001b[0;31m---------------------------------------------------------------------------\u001b[0m",
      "\u001b[0;31mNameError\u001b[0m                                 Traceback (most recent call last)",
      "Cell \u001b[0;32mIn [73], line 1\u001b[0m\n\u001b[0;32m----> 1\u001b[0m star_args()\n",
      "\u001b[0;31mNameError\u001b[0m: name 'star_args' is not defined"
     ]
    }
   ],
   "source": [
    "star_args()\n"
   ]
  },
  {
   "cell_type": "code",
   "execution_count": null,
   "metadata": {},
   "outputs": [],
   "source": []
  },
  {
   "cell_type": "code",
   "execution_count": null,
   "metadata": {},
   "outputs": [],
   "source": []
  },
  {
   "cell_type": "code",
   "execution_count": 76,
   "metadata": {},
   "outputs": [
    {
     "data": {
      "text/plain": [
       "3"
      ]
     },
     "execution_count": 76,
     "metadata": {},
     "output_type": "execute_result"
    }
   ],
   "source": [
    "1 + len(lec_tree.branches)\n"
   ]
  },
  {
   "cell_type": "code",
   "execution_count": 27,
   "metadata": {},
   "outputs": [],
   "source": [
    "def count_nodes(t):\n",
    "    \"\"\"The number of leaves in tree.\n",
    "\n",
    "    >>> tree1 = Tree(1)\n",
    "    >>> count_nodes(tree1)\n",
    "    1\n",
    "    >>> count_nodes(lec_tree)\n",
    "    10\n",
    "    \"\"\"\n",
    "    if t.is_leaf():\n",
    "        return 1\n",
    "    else:\n",
    "        count = 1\n",
    "        print(f'T is: {t.value}')\n",
    "        for branch in t.branches:\n",
    "            print(f\"    Branch: {branch}\")\n",
    "            count += count_nodes(branch)\n",
    "            print(f'    Count so far: {count}')\n",
    "        return count\n"
   ]
  },
  {
   "cell_type": "code",
   "execution_count": 28,
   "metadata": {},
   "outputs": [
    {
     "data": {
      "text/plain": [
       "1"
      ]
     },
     "execution_count": 28,
     "metadata": {},
     "output_type": "execute_result"
    }
   ],
   "source": [
    "count_nodes(my_tree)\n"
   ]
  },
  {
   "cell_type": "code",
   "execution_count": 21,
   "metadata": {},
   "outputs": [
    {
     "data": {
      "text/plain": [
       "Tree(1)"
      ]
     },
     "execution_count": 21,
     "metadata": {},
     "output_type": "execute_result"
    }
   ],
   "source": [
    "my_tree\n"
   ]
  },
  {
   "cell_type": "code",
   "execution_count": 22,
   "metadata": {},
   "outputs": [
    {
     "data": {
      "text/plain": [
       "True"
      ]
     },
     "execution_count": 22,
     "metadata": {},
     "output_type": "execute_result"
    }
   ],
   "source": [
    "my_tree.is_leaf()\n"
   ]
  },
  {
   "cell_type": "code",
   "execution_count": null,
   "metadata": {},
   "outputs": [],
   "source": []
  },
  {
   "cell_type": "code",
   "execution_count": 29,
   "metadata": {},
   "outputs": [
    {
     "name": "stdout",
     "output_type": "stream",
     "text": [
      "T is: 2\n",
      "    Branch: Tree(7, [Tree(2), Tree(10), Tree(6, [Tree(5), Tree(11)])])\n",
      "T is: 7\n",
      "    Branch: Tree(2)\n",
      "    Count so far: 2\n",
      "    Branch: Tree(10)\n",
      "    Count so far: 3\n",
      "    Branch: Tree(6, [Tree(5), Tree(11)])\n",
      "T is: 6\n",
      "    Branch: Tree(5)\n",
      "    Count so far: 2\n",
      "    Branch: Tree(11)\n",
      "    Count so far: 3\n",
      "    Count so far: 6\n",
      "    Count so far: 7\n",
      "    Branch: Tree(5, [Tree(9, [Tree(4)])])\n",
      "T is: 5\n",
      "    Branch: Tree(9, [Tree(4)])\n",
      "T is: 9\n",
      "    Branch: Tree(4)\n",
      "    Count so far: 2\n",
      "    Count so far: 3\n",
      "    Count so far: 10\n"
     ]
    },
    {
     "data": {
      "text/plain": [
       "10"
      ]
     },
     "execution_count": 29,
     "metadata": {},
     "output_type": "execute_result"
    }
   ],
   "source": [
    "count_nodes(lec_tree)\n"
   ]
  },
  {
   "cell_type": "code",
   "execution_count": null,
   "metadata": {},
   "outputs": [],
   "source": []
  },
  {
   "cell_type": "code",
   "execution_count": null,
   "metadata": {},
   "outputs": [],
   "source": []
  },
  {
   "cell_type": "code",
   "execution_count": 98,
   "metadata": {},
   "outputs": [],
   "source": [
    "# SOLUTION\n",
    "\n",
    "def count_nodes(t):\n",
    "    \"\"\"The number of leaves in tree.\"\"\"\n",
    "    return 1 + sum(map(count_nodes, t.branches))\n",
    "        # return 1 + sum([count_nodes(b) for b in t.branches])\n"
   ]
  },
  {
   "cell_type": "code",
   "execution_count": 99,
   "metadata": {},
   "outputs": [
    {
     "data": {
      "text/plain": [
       "10"
      ]
     },
     "execution_count": 99,
     "metadata": {},
     "output_type": "execute_result"
    }
   ],
   "source": [
    "count_nodes(lec_tree)\n"
   ]
  },
  {
   "cell_type": "code",
   "execution_count": 94,
   "metadata": {},
   "outputs": [
    {
     "data": {
      "text/plain": [
       "[]"
      ]
     },
     "execution_count": 94,
     "metadata": {},
     "output_type": "execute_result"
    }
   ],
   "source": [
    "list(map(lambda x: 1, []))\n"
   ]
  },
  {
   "cell_type": "code",
   "execution_count": 106,
   "metadata": {},
   "outputs": [
    {
     "data": {
      "text/plain": [
       "1"
      ]
     },
     "execution_count": 106,
     "metadata": {},
     "output_type": "execute_result"
    }
   ],
   "source": [
    "count_nodes(my_tree)\n"
   ]
  },
  {
   "cell_type": "code",
   "execution_count": null,
   "metadata": {},
   "outputs": [],
   "source": []
  },
  {
   "cell_type": "code",
   "execution_count": null,
   "metadata": {},
   "outputs": [],
   "source": []
  },
  {
   "cell_type": "code",
   "execution_count": null,
   "metadata": {},
   "outputs": [],
   "source": [
    "def coun(t):\n",
    "    \"\"\"The number of leaves in tree.\"\"\"\n",
    "    return 1 + sum(map(count_nodes, t.branches))\n"
   ]
  },
  {
   "cell_type": "code",
   "execution_count": 30,
   "metadata": {},
   "outputs": [
    {
     "name": "stdout",
     "output_type": "stream",
     "text": [
      "T is: 1\n",
      "    Branch: Tree(2)\n",
      "    Count so far: 2\n"
     ]
    },
    {
     "data": {
      "text/plain": [
       "2"
      ]
     },
     "execution_count": 30,
     "metadata": {},
     "output_type": "execute_result"
    }
   ],
   "source": [
    "count_nodes(Tree(1, Tree(2)))\n"
   ]
  },
  {
   "cell_type": "code",
   "execution_count": 32,
   "metadata": {},
   "outputs": [
    {
     "data": {
      "text/plain": [
       "'8888888888'"
      ]
     },
     "execution_count": 32,
     "metadata": {},
     "output_type": "execute_result"
    }
   ],
   "source": [
    "'8' * 10\n"
   ]
  },
  {
   "cell_type": "code",
   "execution_count": 39,
   "metadata": {},
   "outputs": [],
   "source": [
    "def print_tree(t, indent=0):\n",
    "    \"\"\"Print a representation of this tree in which each label is\n",
    "    indented by two spaces times its depth from the root.\n",
    "\n",
    "    >>> print_tree(tree(1))\n",
    "    1\n",
    "    >>> print_tree(tree(1, [tree(2)]))\n",
    "    1\n",
    "      2\n",
    "    >>> print_tree(fib_tree(4))\n",
    "    3\n",
    "      1\n",
    "        0\n",
    "        1\n",
    "      2\n",
    "        1\n",
    "        1\n",
    "          0\n",
    "          1\n",
    "    \"\"\"\n",
    "    # print(f\"Deptrh? {indent}\")\n",
    "    print(f\"{'     ' * indent}{t.value}\")\n",
    "    for b in t.branches:\n",
    "        print_tree(b, indent + 1)\n"
   ]
  },
  {
   "cell_type": "code",
   "execution_count": 38,
   "metadata": {},
   "outputs": [
    {
     "data": {
      "text/plain": [
       "''"
      ]
     },
     "execution_count": 38,
     "metadata": {},
     "output_type": "execute_result"
    }
   ],
   "source": [
    "'8' * 0\n"
   ]
  },
  {
   "cell_type": "code",
   "execution_count": 36,
   "metadata": {},
   "outputs": [
    {
     "name": "stdout",
     "output_type": "stream",
     "text": [
      "Deptrh? 0\n",
      "1\n"
     ]
    }
   ],
   "source": [
    "print_tree(my_tree)\n"
   ]
  },
  {
   "cell_type": "code",
   "execution_count": 40,
   "metadata": {},
   "outputs": [
    {
     "name": "stdout",
     "output_type": "stream",
     "text": [
      "Deptrh? 0\n",
      "2\n",
      "Deptrh? 1\n",
      "     7\n",
      "Deptrh? 2\n",
      "          2\n",
      "Deptrh? 2\n",
      "          10\n",
      "Deptrh? 2\n",
      "          6\n",
      "Deptrh? 3\n",
      "               5\n",
      "Deptrh? 3\n",
      "               11\n",
      "Deptrh? 1\n",
      "     5\n",
      "Deptrh? 2\n",
      "          9\n",
      "Deptrh? 3\n",
      "               4\n"
     ]
    }
   ],
   "source": [
    "print_tree(lec_tree)\n"
   ]
  },
  {
   "cell_type": "code",
   "execution_count": null,
   "metadata": {},
   "outputs": [],
   "source": []
  },
  {
   "cell_type": "code",
   "execution_count": null,
   "metadata": {},
   "outputs": [],
   "source": [
    "    print('  ' * indent + str(t.value) +  f'     indent: {indent}')\n",
    "    for b in t.branches:\n",
    "        print_tree(b, indent + 1)\n"
   ]
  },
  {
   "cell_type": "code",
   "execution_count": null,
   "metadata": {},
   "outputs": [],
   "source": []
  },
  {
   "cell_type": "code",
   "execution_count": null,
   "metadata": {},
   "outputs": [],
   "source": []
  },
  {
   "cell_type": "code",
   "execution_count": null,
   "metadata": {},
   "outputs": [],
   "source": []
  },
  {
   "cell_type": "code",
   "execution_count": 34,
   "metadata": {},
   "outputs": [],
   "source": [
    "def print_tree_lines(t, indent=0):\n",
    "    \"\"\"Print a representation of this tree in which each label is\n",
    "    indented by two spaces times its depth from the root.\n",
    "\n",
    "    >>> print_tree(tree(1))\n",
    "    1\n",
    "    >>> print_tree(tree(1, [tree(2)]))\n",
    "    1\n",
    "      2\n",
    "    >>> print_tree(fib_tree(4))\n",
    "    3\n",
    "      1\n",
    "        0\n",
    "        1\n",
    "      2\n",
    "        1\n",
    "        1\n",
    "          0\n",
    "          1\n",
    "    \"\"\"\n",
    "    pre = max(0, indent - 1)\n",
    "    start = '-'\n",
    "    print(f\"|{start}{'--' * pre}|--{t.value}\")\n",
    "    for b in t.branches:\n",
    "        print_tree_lines(b, indent + 1)\n"
   ]
  },
  {
   "cell_type": "code",
   "execution_count": 35,
   "metadata": {},
   "outputs": [
    {
     "name": "stdout",
     "output_type": "stream",
     "text": [
      "|-|--2\n",
      "|-|--7\n",
      "|---|--2\n",
      "|---|--10\n",
      "|---|--6\n",
      "|-----|--5\n",
      "|-----|--11\n",
      "|-|--5\n",
      "|---|--9\n",
      "|-----|--4\n"
     ]
    }
   ],
   "source": [
    "print_tree_lines(lec_tree)\n"
   ]
  },
  {
   "cell_type": "code",
   "execution_count": 33,
   "metadata": {},
   "outputs": [
    {
     "data": {
      "text/plain": [
       "Tree(2, [Tree(7, [Tree(2), Tree(10), Tree(6, [Tree(5), Tree(11)])]), Tree(5, [Tree(9, [Tree(4)])])])"
      ]
     },
     "execution_count": 33,
     "metadata": {},
     "output_type": "execute_result"
    }
   ],
   "source": [
    "lec_tree\n"
   ]
  },
  {
   "cell_type": "code",
   "execution_count": null,
   "metadata": {},
   "outputs": [],
   "source": [
    "count_nodes(my_tree)\n"
   ]
  },
  {
   "cell_type": "code",
   "execution_count": null,
   "metadata": {},
   "outputs": [],
   "source": [
    "count_nodes(fib_tree(5))\n"
   ]
  },
  {
   "cell_type": "code",
   "execution_count": 36,
   "metadata": {},
   "outputs": [],
   "source": [
    "def leaves(tree):\n",
    "    \"\"\"Return a list containing the leaf labels of tree.\n",
    "\n",
    "    >>> leaves(fib_tree(5))\n",
    "    [1, 0, 1, 0, 1, 1, 0, 1]\n",
    "    \"\"\"\n",
    "    if tree.is_leaf():\n",
    "        return [ tree.value ]\n",
    "    else:\n",
    "        # Sum with a \"start=[]\"\n",
    "        # [1] + [2] + [3]...\n",
    "        return sum([leaves(b) for b in tree.branches], [])\n"
   ]
  },
  {
   "cell_type": "code",
   "execution_count": 37,
   "metadata": {},
   "outputs": [],
   "source": [
    "def fib_tree(n):\n",
    "    if n == 0 or n == 1:\n",
    "        return Tree(n)\n",
    "    else:\n",
    "        left, right = fib_tree(n-2), fib_tree(n-1)\n",
    "        fib_n = left.value + right.value\n",
    "        return Tree(fib_n, [left, right])\n"
   ]
  },
  {
   "cell_type": "code",
   "execution_count": 38,
   "metadata": {},
   "outputs": [
    {
     "data": {
      "text/plain": [
       "Tree(5, [[Tree(2, [[Tree(1), Tree(1, [[Tree(0), Tree(1)]])]]), Tree(3, [[Tree(1, [[Tree(0), Tree(1)]]), Tree(2, [[Tree(1), Tree(1, [[Tree(0), Tree(1)]])]])]])]])"
      ]
     },
     "execution_count": 38,
     "metadata": {},
     "output_type": "execute_result"
    }
   ],
   "source": [
    "fib_tree(5)\n"
   ]
  },
  {
   "cell_type": "code",
   "execution_count": null,
   "metadata": {},
   "outputs": [],
   "source": [
    "leaves(fib_tree(5))\n"
   ]
  },
  {
   "cell_type": "code",
   "execution_count": null,
   "metadata": {},
   "outputs": [],
   "source": [
    "print_tree(fib_tree(5))\n"
   ]
  },
  {
   "cell_type": "code",
   "execution_count": null,
   "metadata": {},
   "outputs": [],
   "source": [
    "fib_tree(4)\n"
   ]
  },
  {
   "cell_type": "code",
   "execution_count": null,
   "metadata": {},
   "outputs": [],
   "source": [
    "sum(leaves(fib_tree(4)))\n"
   ]
  },
  {
   "cell_type": "markdown",
   "metadata": {},
   "source": [
    "# Searching Trees\n"
   ]
  },
  {
   "cell_type": "code",
   "execution_count": 42,
   "metadata": {},
   "outputs": [],
   "source": [
    "big_tree = Tree(\n",
    "    '1A',\n",
    "    Tree('2A',\n",
    "        Tree('3A',\n",
    "            Tree('4A',\n",
    "                Tree('5A')\n",
    "            )),\n",
    "        Tree('3B',\n",
    "            Tree('4B'),\n",
    "            Tree('4C',\n",
    "                Tree('5B',\n",
    "                    Tree('6A')\n",
    "                )\n",
    "            ),\n",
    "            Tree('4D'),\n",
    "            Tree('4E')\n",
    "        )\n",
    "    ),\n",
    "    Tree('2B',\n",
    "        Tree('3C',\n",
    "            Tree('4F')\n",
    "        )\n",
    "    )\n",
    ")\n"
   ]
  },
  {
   "cell_type": "code",
   "execution_count": 43,
   "metadata": {},
   "outputs": [
    {
     "name": "stdout",
     "output_type": "stream",
     "text": [
      "Deptrh? 0\n",
      "1A\n",
      "Deptrh? 1\n",
      "     2A\n",
      "Deptrh? 2\n",
      "          3A\n",
      "Deptrh? 3\n",
      "               4A\n",
      "Deptrh? 4\n",
      "                    5A\n",
      "Deptrh? 2\n",
      "          3B\n",
      "Deptrh? 3\n",
      "               4B\n",
      "Deptrh? 3\n",
      "               4C\n",
      "Deptrh? 4\n",
      "                    5B\n",
      "Deptrh? 5\n",
      "                         6A\n",
      "Deptrh? 3\n",
      "               4D\n",
      "Deptrh? 3\n",
      "               4E\n",
      "Deptrh? 1\n",
      "     2B\n",
      "Deptrh? 2\n",
      "          3C\n",
      "Deptrh? 3\n",
      "               4F\n"
     ]
    }
   ],
   "source": [
    "print_tree(big_tree)\n"
   ]
  },
  {
   "cell_type": "code",
   "execution_count": null,
   "metadata": {},
   "outputs": [],
   "source": [
    "def traverse_recursive(t):\n",
    "    print('Saw: ' + t.value)\n",
    "    for b in t.branches:\n",
    "        traverse_recursive(b)\n"
   ]
  },
  {
   "cell_type": "code",
   "execution_count": null,
   "metadata": {},
   "outputs": [],
   "source": [
    "traverse_recursive(big_tree)\n"
   ]
  },
  {
   "cell_type": "markdown",
   "metadata": {},
   "source": [
    "Notice that, like out printed view, we got down one whole path before going back up.\n",
    "\n",
    "\n",
    "This is called depth first search.\n",
    "\n",
    "But, what if we want to go acroos each \"level\" first, such that I see all the 2's, then all the 3's and so on..."
   ]
  },
  {
   "cell_type": "markdown",
   "metadata": {},
   "source": [
    "## Extra: Breadth First Search.\n",
    "\n",
    "Use the commented print statements to inspect our `to_visit` list.\n",
    "This is called a _queue_. The first items we put in (via `.append`) are the first ones \"out\", that we access by using `.pop(0)`. We call this \"First In, First Out\".\n",
    "\n",
    "But really, it's just a list. It's all about using it in a particular way."
   ]
  },
  {
   "cell_type": "code",
   "execution_count": null,
   "metadata": {},
   "outputs": [],
   "source": [
    "def traverse_across(t):\n",
    "    to_visit = []\n",
    "    to_visit.append(t)\n",
    "    while len(to_visit) > 0:\n",
    "        node = to_visit.pop(0)\n",
    "        print('Visit: ' + node.value)\n",
    "        for branch in node.branches:\n",
    "            to_visit.append(branch)\n",
    "        print(to_visit)\n"
   ]
  },
  {
   "cell_type": "code",
   "execution_count": null,
   "metadata": {},
   "outputs": [],
   "source": [
    "traverse_across(big_tree)\n"
   ]
  },
  {
   "cell_type": "code",
   "execution_count": null,
   "metadata": {},
   "outputs": [],
   "source": [
    "my_list = [1, 2, 3]\n",
    "item = my_list.pop(0)\n"
   ]
  },
  {
   "cell_type": "code",
   "execution_count": null,
   "metadata": {},
   "outputs": [],
   "source": [
    "print(item)\n"
   ]
  },
  {
   "cell_type": "code",
   "execution_count": null,
   "metadata": {},
   "outputs": [],
   "source": [
    "print(my_list)\n"
   ]
  },
  {
   "cell_type": "markdown",
   "metadata": {},
   "source": [
    "# Extra: Binary Search Trees\n",
    "\n",
    "A tree where each sub tree has 2 children, a left and a right."
   ]
  },
  {
   "cell_type": "code",
   "execution_count": null,
   "metadata": {},
   "outputs": [],
   "source": [
    "ordered_tree = Tree(8, [Tree(3,\n",
    "                             [Tree(1),\n",
    "                              Tree(6, [Tree(4), Tree(7)])]\n",
    "                            ),\n",
    "                       Tree(10, [\n",
    "                           Tree(None),\n",
    "                           Tree(14, [Tree(13), Tree(None)])])\n",
    "                       ]\n",
    "                   )\n"
   ]
  },
  {
   "cell_type": "code",
   "execution_count": null,
   "metadata": {},
   "outputs": [],
   "source": [
    "print_tree(ordered_tree)\n"
   ]
  },
  {
   "cell_type": "code",
   "execution_count": null,
   "metadata": {},
   "outputs": [],
   "source": [
    "def bst(tree, value):\n",
    "    if tree.value == value:\n",
    "        return value\n",
    "    elif tree.is_leaf():\n",
    "        return 'NOT FOUND'\n",
    "    left = tree.branches[0]\n",
    "    right = tree.branches[1]\n",
    "    if left.value and value < tree.value:\n",
    "        return bst(left, value)\n",
    "    elif right.value:\n",
    "        return bst(right, value)\n",
    "    return 'NOT FOUND'\n"
   ]
  },
  {
   "cell_type": "code",
   "execution_count": null,
   "metadata": {},
   "outputs": [],
   "source": [
    "for i in range(18):\n",
    "    print(str(i) + ' ' + str(bst(ordered_tree, i)))\n"
   ]
  },
  {
   "cell_type": "code",
   "execution_count": null,
   "metadata": {},
   "outputs": [],
   "source": []
  },
  {
   "cell_type": "code",
   "execution_count": 11,
   "metadata": {},
   "outputs": [],
   "source": [
    "def list_to_tree(family_tuple):\n",
    "    value, branch_list = family_tuple\n",
    "    branches = [list_to_tree(branch_tuple) for branch_tuple in branch_list]\n",
    "    return Tree(value, branches)\n"
   ]
  },
  {
   "cell_type": "code",
   "execution_count": 21,
   "metadata": {},
   "outputs": [
    {
     "ename": "NameError",
     "evalue": "name 'print_tree' is not defined",
     "output_type": "error",
     "traceback": [
      "\u001b[0;31m---------------------------------------------------------------------------\u001b[0m",
      "\u001b[0;31mNameError\u001b[0m                                 Traceback (most recent call last)",
      "\u001b[1;32m/Users/michael/Dropbox/Projects/cs88/cs88/src/assets/slides/fa23/19-Trees.ipynb Cell 81\u001b[0m line \u001b[0;36m1\n\u001b[1;32m      <a href='vscode-notebook-cell:/Users/michael/Dropbox/Projects/cs88/cs88/src/assets/slides/fa23/19-Trees.ipynb#Y143sZmlsZQ%3D%3D?line=0'>1</a>\u001b[0m family_tree \u001b[39m=\u001b[39m Tree(\n\u001b[1;32m      <a href='vscode-notebook-cell:/Users/michael/Dropbox/Projects/cs88/cs88/src/assets/slides/fa23/19-Trees.ipynb#Y143sZmlsZQ%3D%3D?line=1'>2</a>\u001b[0m         (\u001b[39m\"\u001b[39m\u001b[39mJordan\u001b[39m\u001b[39m\"\u001b[39m, \u001b[39m\"\u001b[39m\u001b[39mAlex\u001b[39m\u001b[39m\"\u001b[39m),\n\u001b[1;32m      <a href='vscode-notebook-cell:/Users/michael/Dropbox/Projects/cs88/cs88/src/assets/slides/fa23/19-Trees.ipynb#Y143sZmlsZQ%3D%3D?line=2'>3</a>\u001b[0m         Tree((\u001b[39m\"\u001b[39m\u001b[39mTaylor\u001b[39m\u001b[39m\"\u001b[39m, \u001b[39m\"\u001b[39m\u001b[39mMorgan\u001b[39m\u001b[39m\"\u001b[39m),\n\u001b[0;32m   (...)\u001b[0m\n\u001b[1;32m     <a href='vscode-notebook-cell:/Users/michael/Dropbox/Projects/cs88/cs88/src/assets/slides/fa23/19-Trees.ipynb#Y143sZmlsZQ%3D%3D?line=13'>14</a>\u001b[0m     )\n\u001b[1;32m     <a href='vscode-notebook-cell:/Users/michael/Dropbox/Projects/cs88/cs88/src/assets/slides/fa23/19-Trees.ipynb#Y143sZmlsZQ%3D%3D?line=14'>15</a>\u001b[0m     )\n\u001b[1;32m     <a href='vscode-notebook-cell:/Users/michael/Dropbox/Projects/cs88/cs88/src/assets/slides/fa23/19-Trees.ipynb#Y143sZmlsZQ%3D%3D?line=16'>17</a>\u001b[0m family_tree\n\u001b[0;32m---> <a href='vscode-notebook-cell:/Users/michael/Dropbox/Projects/cs88/cs88/src/assets/slides/fa23/19-Trees.ipynb#Y143sZmlsZQ%3D%3D?line=18'>19</a>\u001b[0m print_tree(family_tree)\n",
      "\u001b[0;31mNameError\u001b[0m: name 'print_tree' is not defined"
     ]
    }
   ],
   "source": [
    "\n",
    "family_tree = Tree(\n",
    "        (\"Jordan\", \"Alex\"),\n",
    "        Tree((\"Taylor\", \"Morgan\"),\n",
    "            Tree((\"Riley\", \"Sam\"),\n",
    "                Tree((\"Avery\", None))\n",
    "            )\n",
    "        ),\n",
    "    Tree( (\"Casey\", \"Jamie\"),\n",
    "        Tree((\"Quinn\", \"Chris\"),\n",
    "            Tree( (\"Dakota\", None) ),\n",
    "            Tree( (\"Skyler\", None) )\n",
    "        ),\n",
    "        Tree( (\"Jesse\", \"Jordan\") )\n",
    "    )\n",
    "    )\n",
    "\n",
    "family_tree\n",
    "\n",
    "print_tree(family_tree)\n"
   ]
  },
  {
   "cell_type": "code",
   "execution_count": null,
   "metadata": {},
   "outputs": [],
   "source": []
  },
  {
   "cell_type": "code",
   "execution_count": null,
   "metadata": {},
   "outputs": [],
   "source": []
  }
 ],
 "metadata": {
  "kernelspec": {
   "display_name": "Python 3 (ipykernel)",
   "language": "python",
   "name": "python3"
  },
  "language_info": {
   "codemirror_mode": {
    "name": "ipython",
    "version": 3
   },
   "file_extension": ".py",
   "mimetype": "text/x-python",
   "name": "python",
   "nbconvert_exporter": "python",
   "pygments_lexer": "ipython3",
   "version": "3.11.5"
  }
 },
 "nbformat": 4,
 "nbformat_minor": 4
}
