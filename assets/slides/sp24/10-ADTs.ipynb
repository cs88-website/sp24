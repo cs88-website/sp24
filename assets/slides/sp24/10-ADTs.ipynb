{
 "cells": [
  {
   "cell_type": "markdown",
   "metadata": {},
   "source": [
    "# Abstract Data Types"
   ]
  },
  {
   "cell_type": "code",
   "execution_count": null,
   "metadata": {},
   "outputs": [],
   "source": [
    "# This is a little piece of magic to help you test functions against\n",
    "# their doctest as you go.\n",
    "# This is equivalent to `python3 -m doctest file.py`\n",
    "import doctest\n",
    "def test(fun, verbose=True):\n",
    "    doctest.run_docstring_examples(fun, None, name=fun.__name__, verbose=verbose)"
   ]
  },
  {
   "cell_type": "markdown",
   "metadata": {},
   "source": [
    "## Why do we want ADTs?\n",
    "\n",
    "\n",
    "* What might the following tuple represent?\n",
    "* How would we know what it means?\n",
    "* How would our _teammates_ know its meaning?\n",
    "* What if we want to change the data?\n",
    "\n",
    "\n",
    "This is the latitude / longitude of Berkeley, CA. But a pair of 'random' numbers doesn't communicate much!"
   ]
  },
  {
   "cell_type": "code",
   "execution_count": 1,
   "metadata": {},
   "outputs": [
    {
     "name": "stdout",
     "output_type": "stream",
     "text": [
      "37.8715\n"
     ]
    }
   ],
   "source": [
    "p = (37.8715, 122.2730)\n",
    "\n",
    "print(p[0])"
   ]
  },
  {
   "cell_type": "markdown",
   "metadata": {},
   "source": [
    "## An Intro ADT.\n",
    "\n",
    "A `point` is an `(x, y)` pair. We can do all sorts of cool things with points."
   ]
  },
  {
   "cell_type": "markdown",
   "metadata": {},
   "source": [
    "## Define a few simple functions\n",
    "\n",
    "**But** Directly using `[0]` and `[1]` gets confusing. What if we made out code more clear?\n",
    "\n",
    "### We refer to this as _self-documenting_ code.\n"
   ]
  },
  {
   "cell_type": "code",
   "execution_count": 2,
   "metadata": {},
   "outputs": [
    {
     "name": "stdout",
     "output_type": "stream",
     "text": [
      "8\n"
     ]
    }
   ],
   "source": [
    "def point(x, y): # constructor\n",
    "        return (x, y)\n",
    "\n",
    "x = lambda point: point[0] # selector, could easily be a normal function\n",
    "y = lambda point: point[1]\n",
    "\n",
    "# Using our new ADT\n",
    "origin = point(0, 0)\n",
    "my_house = point(5, 5) # Random values, for illustration.\n",
    "campus = point(8, 9)\n",
    "\n",
    "print(x(campus))"
   ]
  },
  {
   "cell_type": "code",
   "execution_count": 3,
   "metadata": {},
   "outputs": [
    {
     "name": "stdout",
     "output_type": "stream",
     "text": [
      "[5, 5]\n"
     ]
    },
    {
     "data": {
      "text/plain": [
       "5"
      ]
     },
     "execution_count": 3,
     "metadata": {},
     "output_type": "execute_result"
    }
   ],
   "source": [
    "print(my_house)\n",
    "\n",
    "my_house[0] #abstraction violation"
   ]
  },
  {
   "cell_type": "code",
   "execution_count": null,
   "metadata": {},
   "outputs": [],
   "source": [
    "print(campus)\n",
    "\n",
    "campus[0] #abstraction violation."
   ]
  },
  {
   "cell_type": "code",
   "execution_count": null,
   "metadata": {},
   "outputs": [],
   "source": [
    "# NO Abstractions\n",
    "\n",
    "def subtract(p1, p2): # Operator, abstraction violation\n",
    "    return [p2[0] - p1[0], p2[1] - p1[1]]\n",
    "\n",
    "print(\"Subtract: \", subtract(campus, my_house))\n",
    "print(\"Subtract [0]: \", subtract(campus, my_house)[0])\n",
    "\n",
    "# def point(x, y): # constructor\n",
    "#         return [x, y]\n",
    "\n",
    "# x = lambda point: point[0] # selector, could easily be a normal function\n",
    "# y = lambda point: point[1]\n",
    "\n",
    "# Proper abstractions\n",
    "def subtract(p1, p2):\n",
    "    return point(x(p2) - x(p1), y(p2) - y(p1))\n",
    "\n",
    "print(\"Subtract: \", subtract(campus, my_house))\n",
    "print(\"Subtract x: \", x(subtract(campus, my_house)))"
   ]
  },
  {
   "cell_type": "code",
   "execution_count": null,
   "metadata": {},
   "outputs": [],
   "source": [
    "\n",
    "def distance(p1, p2): # Operator\n",
    "    \"\"\"Pythagorean theorem between 2 points\"\"\"\n",
    "    difference = subtract(p1, p2)\n",
    "    return (x(difference)**2 + y(difference)**2) ** 0.5\n",
    "\n",
    "print(\"my house\", my_house)\n",
    "# origin = [0, 0]\n",
    "# my_house = [5, 5] # Random values, for illustration.\n",
    "# campus = [8, 9]\n",
    "\n",
    "distance_to_campus = distance(my_house, campus)\n",
    "\n",
    "distance_to_campus"
   ]
  },
  {
   "cell_type": "code",
   "execution_count": null,
   "metadata": {},
   "outputs": [],
   "source": [
    "distance_to_campus = distance(my_house, campus)\n",
    "\n",
    "print(distance_to_campus)\n"
   ]
  },
  {
   "cell_type": "code",
   "execution_count": null,
   "metadata": {},
   "outputs": [],
   "source": [
    "# ADTs different format\n",
    "\n",
    "def point(x, y): # constructor\n",
    "        return str(x) + \" \" + str(y)\n",
    "\n",
    "x = lambda point: float(point.split(' ')[0]) # selector, could easily be a normal function\n",
    "y = lambda point: float(point.split(' ')[1])\n"
   ]
  },
  {
   "cell_type": "code",
   "execution_count": null,
   "metadata": {},
   "outputs": [],
   "source": [
    "origin = point(0, 0)\n",
    "my_house = point(5, 5) # Random values, for illustration.\n",
    "campus = point(8, 9)\n",
    "\n",
    "# distance_to_campus = distance(my_house, campus)\n",
    "\n",
    "# print(distance_to_campus)\n",
    "print(campus)\n",
    "print(x(campus))\n"
   ]
  },
  {
   "cell_type": "code",
   "execution_count": null,
   "metadata": {},
   "outputs": [],
   "source": [
    "origin\n",
    "\n",
    "origin.split(' ')"
   ]
  },
  {
   "cell_type": "markdown",
   "metadata": {},
   "source": [
    "---\n",
    "#### We call this line the _Abstraction Barrier_.\n",
    "\n",
    "It separates the implementation (setters and getters) for how we access and use our `point`s.\n",
    "\n",
    "---\n"
   ]
  },
  {
   "cell_type": "code",
   "execution_count": null,
   "metadata": {},
   "outputs": [],
   "source": [
    "#################### Barrier ############\n",
    "\n",
    "def subtract(p1, p2): # Operator\n",
    "    return point(x(p2) - x(p1), y(p2) - y(p1))\n",
    "\n",
    "def distance(p1, p2): # Operator\n",
    "    \"\"\"Pythagorean theorem between 2 points\"\"\"\n",
    "    difference = subtract(p1, p2)\n",
    "    return (x(difference)**2 + y(difference)**2) ** 0.5\n",
    "\n",
    "\n",
    "# Using our new ADT\n",
    "origin = point(0, 0)\n",
    "my_house = point(5, 5) # Random values, for illustration.\n",
    "campus = point(8, 9)\n",
    "\n",
    "distance_to_campus = distance(my_house, campus)\n",
    "\n",
    "distance_to_campus\n",
    "\n",
    "\n",
    "print(x(campus))\n",
    "print(campus[0])"
   ]
  },
  {
   "cell_type": "code",
   "execution_count": null,
   "metadata": {},
   "outputs": [],
   "source": [
    "def point(x, y): # constructor\n",
    "        return { 'x': x, 'y': y }\n",
    "\n",
    "x = lambda point: point['x'] # selectors\n",
    "y = lambda point: point['y']\n"
   ]
  },
  {
   "cell_type": "markdown",
   "metadata": {},
   "source": [
    "Once again, we can build new `point`s, and re-use our functions without re-writing them."
   ]
  },
  {
   "cell_type": "code",
   "execution_count": null,
   "metadata": {},
   "outputs": [],
   "source": [
    "# Using our new ADT\n",
    "origin = point(0, 0)\n",
    "my_house = point(5, 5) # Random values, for illustration.\n",
    "campus = point(8, 9)\n",
    "\n",
    "distance_to_campus = distance(my_house, campus)\n",
    "\n",
    "print(distance_to_campus)\n",
    "\n",
    "\n",
    "print(x(campus))"
   ]
  },
  {
   "cell_type": "markdown",
   "metadata": {},
   "source": [
    "## A Game Example:\n",
    "\n",
    "Sprinh 2020 Midterm `Tic-Tac-Toe` gave you an ADT to use:\n",
    "\n",
    "Find all past exams on the [C88C Resources Page](https://c88c.org/sp23/articles/resources.html)\n",
    "\n",
    "[**Spring 2020 Midterm**](https://drive.google.com/file/d/18TDeU8kGo6fdBiwyFhtFN_t2u34EcVtl/view)\n",
    "\n",
    "---\n",
    "\n",
    "We've gotten bored of playing Tic-Tac-Toe with our friends, so we've decided it's time to write a program to ensure we always win! So far, we've built some handy functions, and now it's your turn to complete our program.\n",
    "\n",
    "Given the functions below, complete the function named `determine_win`, which returns whether or not the given player won the Tic-Tac-Toe game. In the Tic-Tac-Toe game, a player can win if their marker, 'X' or 'O' makes a straight line horizontally, vertically, or diagonally. \n",
    "\n",
    "We have provided three functions, which you can assume are correct: `all_four_equal`, `column`, and `diagonal`. For full credit, your solution must make use of each of these functions. (Part of this question is to spend time reading and understanding these functions before moving on to your own solution. As long as you use these three, there's many valid solutions.)\n",
    "\n",
    "---"
   ]
  },
  {
   "cell_type": "code",
   "execution_count": null,
   "metadata": {},
   "outputs": [],
   "source": [
    "\n",
    "def allFourEqual(a, b, c, d):\n",
    "    return a == b == c == d\n",
    "\n",
    "def determine_win_1(board, player):\n",
    "    \"\"\"\n",
    "    >>> determine_win_1([['X', 'O', 'X'],  ['O', 'X', 'X'],  ['O', 'X', 'O']], 'O')\n",
    "    False\n",
    "    >>> determine_win_1([['O', 'O', 'O'], ['X', 'O', 'X'], ['X', 'O', 'X']], 'O')\n",
    "    True\n",
    "    \"\"\"\n",
    "    for row in board:\n",
    "        if allFourEqual(row[0], row[1], row[2], player):\n",
    "            return True\n",
    "    for col in range(3):\n",
    "        if allFourEqual(board[0][col], board[1][col], board[2][col], player):\n",
    "            return True\n",
    "    if allFourEqual(board[0][0], board[1][1], board[2][2], player):\n",
    "        return True\n",
    "    if allFourEqual(board[0][2], board[1][1], board[2][0], player):\n",
    "        return True\n",
    "    return False"
   ]
  },
  {
   "cell_type": "code",
   "execution_count": null,
   "metadata": {},
   "outputs": [],
   "source": [
    "test(determine_win_1)"
   ]
  },
  {
   "cell_type": "markdown",
   "metadata": {},
   "source": [
    "### Define an ADT for our Board:"
   ]
  },
  {
   "cell_type": "code",
   "execution_count": null,
   "metadata": {},
   "outputs": [],
   "source": [
    "def all_four_equal(pieces, player):\n",
    "    \"\"\"\n",
    "    Returns true if the set of 3 pieces is the same as the player.\n",
    "    >>> all_four_equal(['X', 'X', 'X'], 'O')\n",
    "    False\n",
    "    \"\"\"\n",
    "    return pieces[0] == pieces[1] == pieces[2] == player\n",
    "\n",
    "def column(board, index):\n",
    "    \"\"\"\n",
    "    Return the 0th, 1st, or 2nd column in a board.\n",
    "    >>> column([['X', 'O', 'X'],\n",
    "                ['O', 'X', 'X'],\n",
    "                ['O', 'X', 'O']], 1)\n",
    "    ['0', 'X', 'X']\n",
    "    \"\"\"\n",
    "    return [ row[index] for row in board ]\n",
    "\n",
    "def diagonal(board, index):\n",
    "    \"\"\"\n",
    "    Return either 0th or 1st diagonal in a board.\n",
    "    >>> diagonal([['X', 'O', 'X'],\n",
    "                  ['O', 'X', 'X'],\n",
    "                  ['O', 'X', 'O']], 1)\n",
    "    ['X', 'X', '0']\n",
    "    \"\"\"\n",
    "    if index == 0:\n",
    "        return [ board[0][0], board[1][1], board[2][2] ]\n",
    "    else:\n",
    "        return [ board[0][2], board[1][1], board[2][0] ]"
   ]
  },
  {
   "cell_type": "code",
   "execution_count": null,
   "metadata": {},
   "outputs": [],
   "source": [
    "def determine_win_2(board, player):\n",
    "    \"\"\"\n",
    "    >>> determine_win_2([['X', 'O', 'X'],  ['O', 'X', 'X'],  ['O', 'X', 'O']], 'O')\n",
    "    False\n",
    "    >>> determine_win_2([['O', 'O', 'O'], ['X', 'O', 'X'], ['X', 'O', 'X']], 'O')\n",
    "    True\n",
    "    \"\"\"\n",
    "    for row in board:\n",
    "        if all_four_equal(row, player):\n",
    "            return True\n",
    "    for col in range(3):\n",
    "        if all_four_equal(column(board, col), player):\n",
    "            return True\n",
    "    return all_four_equal(diagonal(board, 0), player) or all_four_equal(diagonal(board, 1), player)\n"
   ]
  },
  {
   "cell_type": "code",
   "execution_count": null,
   "metadata": {},
   "outputs": [],
   "source": [
    "test(determine_win_2)"
   ]
  },
  {
   "cell_type": "code",
   "execution_count": null,
   "metadata": {},
   "outputs": [],
   "source": [
    "board = [['O', 'O', 'O'], ['X', 'O', 'X'], ['X', 'O', 'X'] ]\n",
    "\n",
    "def rows(board):\n",
    "    return board\n",
    "\n",
    "def empty_board(width, height):\n",
    "    return ['-' for i in range(width * height) ]\n",
    "\n",
    "\n",
    "my_board = empty_board(4, 4)\n",
    "\n",
    "print(my_board)"
   ]
  },
  {
   "cell_type": "markdown",
   "metadata": {},
   "source": [
    "## What's missing from the ADT?\n",
    "\n",
    "* A board setter / creator\n",
    "* A `row` function.\n",
    "* May a `columns` function, etc. that return all columns.\n",
    "    * How do you know there's only 3?"
   ]
  },
  {
   "cell_type": "markdown",
   "metadata": {},
   "source": [
    "# Optional ADT Examples\n",
    "\n",
    "\n",
    "These examples are optional. We didn't cover them in lecture, but they may be useful reading."
   ]
  },
  {
   "cell_type": "markdown",
   "metadata": {},
   "source": [
    "## Key Value Pairs.\n",
    "\n",
    "A \"Key-Value Pair\" is a mapping of some name to some value.\n",
    "\n",
    "We are going to use a \"Phone Book\" which maps a name of a contact to a phone number."
   ]
  },
  {
   "cell_type": "code",
   "execution_count": null,
   "metadata": {
    "scrolled": true
   },
   "outputs": [],
   "source": [
    "phone_book_data = [\n",
    "        (\"Christine Strauch\", \"510-842-9235\"),\n",
    "        (\"Frances Catal Buloan\", \"932-567-3241\"),\n",
    "        (\"Jack Chow\", \"617-547-0923\"),\n",
    "        (\"Joy De Rosario\", \"310-912-6483\"),\n",
    "        (\"Casey Casem\", \"415-432-9292\"),\n",
    "        (\"Lydia Lu\", \"707-341-1254\")\n",
    "]\n",
    "\n",
    "phone_book = pb_create(phone_book_data)\n",
    "\n",
    "# print(phone_book)\n",
    "print(\" Number: \", pb_get(phone_book, \"Michael\"))\n",
    "\n",
    "\n",
    "print('All Numbers')\n",
    "print(pb_numbers(phone_book))\n",
    "\n",
    "print(\"Area codes\")\n",
    "area_code = lambda num: num[0:3]\n",
    "area_codes = list(map(area_code, pb_numbers(phone_book)))\n",
    "print(area_codes)\n"
   ]
  },
  {
   "cell_type": "markdown",
   "metadata": {},
   "source": [
    "## Building Our Phone Book ADT"
   ]
  },
  {
   "cell_type": "code",
   "execution_count": null,
   "metadata": {},
   "outputs": [],
   "source": [
    "def pb_create(lst):\n",
    "    result = []\n",
    "    for item in lst:\n",
    "        result.append(new_contact(item[0], item[1]))\n",
    "    return result\n",
    "\n",
    "def pb_get(data, name):\n",
    "    \"\"\"\n",
    "    Return the contact info for a person.\n",
    "    \"\"\"\n",
    "    for contact in data:\n",
    "        if contact_name(contact) == name:\n",
    "            return contact_number(contact)\n",
    "    return \"Error: Contact Not Found\"\n",
    "\n",
    "def pb_names(book):\n",
    "    return list(map(contact_name, book))\n",
    "\n",
    "def pb_numbers(book):\n",
    "    return list(map(contact_number, book))\n",
    "\n",
    "def new_contact(name, number):\n",
    "    return [name, number]\n",
    "\n",
    "def contact_name(contact):\n",
    "    return contact[0]\n",
    "\n",
    "def contact_number(contact):\n",
    "    return contact[1]\n"
   ]
  },
  {
   "cell_type": "code",
   "execution_count": null,
   "metadata": {},
   "outputs": [],
   "source": []
  },
  {
   "cell_type": "markdown",
   "metadata": {},
   "source": [
    "# Dictionaires\n",
    "\n",
    "`dicts` are a Python feature which are essentially \"key value pairs\".\n",
    "We are going to rebuild our phone book using dictionaries."
   ]
  },
  {
   "cell_type": "code",
   "execution_count": null,
   "metadata": {},
   "outputs": [],
   "source": [
    "text = \"Once upon a time\"\n",
    "\n",
    "print(text.split())\n",
    "\n",
    "d = { word : len(word) for word in text.split() }\n",
    "print(d)"
   ]
  },
  {
   "cell_type": "code",
   "execution_count": null,
   "metadata": {},
   "outputs": [],
   "source": [
    "d.keys()\n",
    "\n",
    "\"time\" in d\n",
    "\n",
    "4 in d # does not search for values\n",
    "\n",
    "d.values()\n",
    "\n",
    "d2 = {'Once': 4, 'upon': 4, 'a': 1, 'time': 4}\n",
    "\n",
    "# d2"
   ]
  },
  {
   "cell_type": "code",
   "execution_count": null,
   "metadata": {},
   "outputs": [],
   "source": [
    "d2['Once']"
   ]
  },
  {
   "cell_type": "code",
   "execution_count": null,
   "metadata": {},
   "outputs": [],
   "source": [
    "for (key, value) in d.items():\n",
    "    print(\"Key: \" + key + \" => Value: \" + str(value))"
   ]
  },
  {
   "cell_type": "code",
   "execution_count": null,
   "metadata": {},
   "outputs": [],
   "source": [
    "print(d.get('hello'))"
   ]
  },
  {
   "cell_type": "code",
   "execution_count": null,
   "metadata": {},
   "outputs": [],
   "source": [
    "d['hello']"
   ]
  },
  {
   "cell_type": "code",
   "execution_count": null,
   "metadata": {},
   "outputs": [],
   "source": [
    "[0, 1, 2][5]"
   ]
  },
  {
   "cell_type": "code",
   "execution_count": null,
   "metadata": {},
   "outputs": [],
   "source": [
    "squares =    {x: x*x for x in range(3,6)}\n",
    "squares"
   ]
  },
  {
   "cell_type": "markdown",
   "metadata": {},
   "source": [
    "# Rewriting Our Contacts As a Dictionary"
   ]
  },
  {
   "cell_type": "code",
   "execution_count": null,
   "metadata": {},
   "outputs": [],
   "source": [
    "def dict_pb_create(lst):\n",
    "    book = {}\n",
    "    for item in lst:\n",
    "        dict_new_contact(book, item[0], item[1])\n",
    "    return book\n",
    "\n",
    "def dict_pb_get(data, name):\n",
    "    \"\"\"\n",
    "    Return the contact info for a person.\n",
    "    \"\"\"\n",
    "    return data[name]\n",
    "\n",
    "\n",
    "def dict_pb_numbers(book):\n",
    "    return [ contact_number(book[contact]) for contact in book ] # values() is a built in method.\n",
    "\n",
    "def dict_new_contact(phone_book, name, number):\n",
    "    \"Adds a new contact to a phone book\"\n",
    "    phone_book[name] = { 'name': name, 'number': number }\n",
    "\n",
    "# In the dictionary representation these are not as necessary.\n",
    "def contact_name(contact):\n",
    "    return contact['name']\n",
    "\n",
    "def contact_number(contact):\n",
    "    return contact['number']"
   ]
  },
  {
   "cell_type": "code",
   "execution_count": null,
   "metadata": {},
   "outputs": [],
   "source": [
    "pb2 = dict_pb_create(phone_book_data)\n",
    "\n",
    "print(\"Jack Chows's Number: \", dict_pb_get(pb2, \"Jack Chow\"))\n",
    "print(\"Area codes\")\n",
    "area_codes = list(map(lambda x:x[0:3], dict_pb_numbers(pb2)))\n",
    "print(area_codes)"
   ]
  },
  {
   "cell_type": "code",
   "execution_count": null,
   "metadata": {},
   "outputs": [],
   "source": []
  }
 ],
 "metadata": {
  "kernelspec": {
   "display_name": "Python 3 (ipykernel)",
   "language": "python",
   "name": "python3"
  },
  "language_info": {
   "codemirror_mode": {
    "name": "ipython",
    "version": 3
   },
   "file_extension": ".py",
   "mimetype": "text/x-python",
   "name": "python",
   "nbconvert_exporter": "python",
   "pygments_lexer": "ipython3",
   "version": "3.11.6"
  }
 },
 "nbformat": 4,
 "nbformat_minor": 2
}
